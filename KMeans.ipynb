{
 "cells": [
  {
   "cell_type": "markdown",
   "metadata": {},
   "source": [
    "# Overview\n",
    "In this notebook, I'll code a KMeans algorithm from scratch.\n",
    "\n",
    "K-Means Clustering is an unsupervised learning algorithm that aims to group the observations in a given dataset into clusters. The number of clusters is provided as an input. It forms the clusters by minimizing the sum of the distance of points from their respective cluster centroids."
   ]
  },
  {
   "cell_type": "code",
   "execution_count": 2,
   "metadata": {},
   "outputs": [],
   "source": [
    "import pandas as pd\n",
    "import numpy as np\n",
    "import matplotlib.pyplot as plt\n",
    "import random\n",
    "import seaborn as sns\n",
    "#import cdist to compute euclidean distance\n",
    "from scipy.spatial.distance import cdist \n",
    "%matplotlib inline"
   ]
  },
  {
   "cell_type": "code",
   "execution_count": 3,
   "metadata": {},
   "outputs": [],
   "source": [
    "sns.set(rc={'figure.figsize':(20, 7)})"
   ]
  },
  {
   "cell_type": "markdown",
   "metadata": {},
   "source": [
    "**Load dataset**"
   ]
  },
  {
   "cell_type": "code",
   "execution_count": 4,
   "metadata": {},
   "outputs": [
    {
     "data": {
      "text/html": [
       "<div>\n",
       "<style scoped>\n",
       "    .dataframe tbody tr th:only-of-type {\n",
       "        vertical-align: middle;\n",
       "    }\n",
       "\n",
       "    .dataframe tbody tr th {\n",
       "        vertical-align: top;\n",
       "    }\n",
       "\n",
       "    .dataframe thead th {\n",
       "        text-align: right;\n",
       "    }\n",
       "</style>\n",
       "<table border=\"1\" class=\"dataframe\">\n",
       "  <thead>\n",
       "    <tr style=\"text-align: right;\">\n",
       "      <th></th>\n",
       "      <th>sex</th>\n",
       "      <th>species</th>\n",
       "      <th>PC1</th>\n",
       "      <th>PC2</th>\n",
       "      <th>PC3</th>\n",
       "      <th>PC4</th>\n",
       "    </tr>\n",
       "  </thead>\n",
       "  <tbody>\n",
       "    <tr>\n",
       "      <th>0</th>\n",
       "      <td>M</td>\n",
       "      <td>B</td>\n",
       "      <td>0.664783</td>\n",
       "      <td>1.240606</td>\n",
       "      <td>0.354814</td>\n",
       "      <td>-1.305615</td>\n",
       "    </tr>\n",
       "    <tr>\n",
       "      <th>1</th>\n",
       "      <td>M</td>\n",
       "      <td>B</td>\n",
       "      <td>1.128995</td>\n",
       "      <td>0.654173</td>\n",
       "      <td>-0.708660</td>\n",
       "      <td>0.073854</td>\n",
       "    </tr>\n",
       "    <tr>\n",
       "      <th>2</th>\n",
       "      <td>M</td>\n",
       "      <td>B</td>\n",
       "      <td>1.906707</td>\n",
       "      <td>0.599224</td>\n",
       "      <td>-0.350549</td>\n",
       "      <td>-0.827297</td>\n",
       "    </tr>\n",
       "    <tr>\n",
       "      <th>3</th>\n",
       "      <td>M</td>\n",
       "      <td>B</td>\n",
       "      <td>1.242367</td>\n",
       "      <td>-0.268916</td>\n",
       "      <td>-0.621437</td>\n",
       "      <td>-0.186942</td>\n",
       "    </tr>\n",
       "    <tr>\n",
       "      <th>4</th>\n",
       "      <td>M</td>\n",
       "      <td>B</td>\n",
       "      <td>0.864359</td>\n",
       "      <td>-0.320040</td>\n",
       "      <td>-1.135337</td>\n",
       "      <td>0.105380</td>\n",
       "    </tr>\n",
       "  </tbody>\n",
       "</table>\n",
       "</div>"
      ],
      "text/plain": [
       "  sex species       PC1       PC2       PC3       PC4\n",
       "0   M       B  0.664783  1.240606  0.354814 -1.305615\n",
       "1   M       B  1.128995  0.654173 -0.708660  0.073854\n",
       "2   M       B  1.906707  0.599224 -0.350549 -0.827297\n",
       "3   M       B  1.242367 -0.268916 -0.621437 -0.186942\n",
       "4   M       B  0.864359 -0.320040 -1.135337  0.105380"
      ]
     },
     "execution_count": 4,
     "metadata": {},
     "output_type": "execute_result"
    }
   ],
   "source": [
    "crabs = pd.read_csv('data/crabs.csv', sep=\";\")\n",
    "crabs.head()"
   ]
  },
  {
   "cell_type": "code",
   "execution_count": 5,
   "metadata": {},
   "outputs": [
    {
     "data": {
      "image/png": "[encoded data removed]",
      "text/plain": [
       "<Figure size 1440x504 with 1 Axes>"
      ]
     },
     "metadata": {},
     "output_type": "display_data"
    }
   ],
   "source": [
    "X = crabs[['PC1', 'PC2']].values\n",
    "plt.scatter(X[:,0], X[:,1])\n",
    "plt.title('Original data')\n",
    "plt.xlabel('PC1')\n",
    "plt.ylabel('PC2')\n",
    "plt.show()"
   ]
  },
  {
   "cell_type": "code",
   "execution_count": 10,
   "metadata": {},
   "outputs": [],
   "source": [
    "centroids = X[np.random.choice(len(X), 4, replace=False), :]\n",
    "euclid = cdist(X, centroids ,'euclidean')\n"
   ]
  },
  {
   "cell_type": "code",
   "execution_count": 12,
   "metadata": {},
   "outputs": [],
   "source": [
    "minimum = np.array([np.argmin(i) for i in euclid])"
   ]
  },
  {
   "cell_type": "code",
   "execution_count": 13,
   "metadata": {},
   "outputs": [
    {
     "data": {
      "text/plain": [
       "array([0, 2, 2, 2, 2, 2, 2, 2, 2, 2, 2, 2, 2, 2, 2, 2, 2, 2, 2, 2, 2, 1,\n",
       "       2, 2, 2, 2, 2, 1, 2, 2, 2, 2, 2, 2, 1, 2, 1, 2, 1, 2, 2, 1, 1, 2,\n",
       "       1, 1, 2, 1, 1, 1, 0, 2, 0, 2, 2, 0, 2, 0, 2, 2, 2, 0, 2, 2, 0, 2,\n",
       "       2, 0, 2, 0, 2, 0, 2, 2, 2, 2, 2, 2, 2, 2, 0, 0, 2, 2, 2, 2, 2, 2,\n",
       "       2, 2, 2, 2, 2, 2, 2, 2, 2, 2, 2, 2, 0, 3, 0, 3, 0, 3, 3, 3, 3, 3,\n",
       "       3, 3, 3, 3, 3, 3, 3, 3, 3, 3, 3, 3, 3, 3, 3, 3, 3, 3, 3, 3, 3, 3,\n",
       "       3, 3, 3, 3, 3, 3, 3, 3, 3, 3, 3, 3, 3, 3, 3, 3, 3, 3, 0, 0, 0, 0,\n",
       "       0, 0, 0, 0, 0, 0, 3, 0, 0, 0, 0, 0, 0, 0, 0, 0, 0, 0, 0, 0, 0, 0,\n",
       "       0, 0, 0, 3, 0, 0, 0, 0, 0, 3, 0, 0, 0, 0, 0, 0, 0, 0, 3, 0, 0, 0,\n",
       "       0, 0])"
      ]
     },
     "execution_count": 13,
     "metadata": {},
     "output_type": "execute_result"
    }
   ],
   "source": [
    "minimum"
   ]
  },
  {
   "cell_type": "markdown",
   "metadata": {},
   "source": [
    "#### KMeans"
   ]
  },
  {
   "cell_type": "code",
   "execution_count": 15,
   "metadata": {},
   "outputs": [],
   "source": [
    "def my_kmeans(X, n_center, max_iter):\n",
    "    \"\"\"\n",
    "    Compute kmeans given n_centers\n",
    "    \n",
    "    Args:\n",
    "        X (array): a nxp matrix, with n observations and p variables\n",
    "        n_centers (int): the number of centers (clusters)\n",
    "        max_iter (int): the maximum number of iterations, in case the convergence is not reached.\n",
    "        \n",
    "    Returns:\n",
    "        A vector of integers representing the cluster index for each observation\n",
    "    \"\"\"\n",
    "    \n",
    "    #Create n_center random centroids \n",
    "    centroids = X[np.random.choice(len(X), n_center, replace=False), :]\n",
    "    \n",
    "    #compute euclidean distance\n",
    "    euclid = cdist(X, centroids ,'euclidean')\n",
    "    \n",
    "    #get minimum distance\n",
    "    minimum = np.array([np.argmin(i) for i in euclid])\n",
    "    \n",
    "    # repeating the above steps again and again for max_iter iterations\n",
    "    for i in range(max_iter):\n",
    "        centroids = []\n",
    "        for k in range(n_center):\n",
    "            #Update centroid location by taking the average of the points in each cluster group.\n",
    "            centroids.append(X[minimum==k].mean(axis=0))\n",
    "        #update centroids\n",
    "        centroids = np.vstack(centroids)\n",
    "        euclid = cdist(X, centroids, 'euclidean')\n",
    "        minimum = np.array([np.argmin(j) for j in euclid])\n",
    "        \n",
    "    return minimum"
   ]
  },
  {
   "cell_type": "code",
   "execution_count": 16,
   "metadata": {},
   "outputs": [
    {
     "data": {
      "image/png": "[encoded data removed]",
      "text/plain": [
       "<Figure size 1440x504 with 1 Axes>"
      ]
     },
     "metadata": {},
     "output_type": "display_data"
    }
   ],
   "source": [
    "kmeans = my_kmeans(X, 4, 1500)\n",
    "cluster_1 = X[kmeans == 0]\n",
    "cluster_2 = X[kmeans == 1]\n",
    "cluster_3 = X[kmeans == 2]\n",
    "cluster_4 = X[kmeans == 3]\n",
    "\n",
    "\n",
    "plt.scatter(cluster_1[:,0] , cluster_1[:,1] , color = 'red', label='cluster 1')\n",
    "plt.scatter(cluster_2[:,0] , cluster_2[:,1] , color = 'black', label='cluster 2')\n",
    "plt.scatter(cluster_3[:,0] , cluster_3[:,1] , color = 'green', label='cluster 3')\n",
    "plt.scatter(cluster_4[:,0] , cluster_4[:,1] , color = 'blue', label='cluster 4')\n",
    "plt.title('KMeans clustering (k=4)')\n",
    "plt.xlabel('PC1')\n",
    "plt.ylabel('PC2')\n",
    "plt.legend(loc='center right', bbox_to_anchor=(1, 0.5))\n",
    "plt.show()"
   ]
  },
  {
   "cell_type": "code",
   "execution_count": null,
   "metadata": {},
   "outputs": [],
   "source": []
  }
 ],
 "metadata": {
  "kernelspec": {
   "display_name": "Python 3",
   "language": "python",
   "name": "python3"
  },
  "language_info": {
   "codemirror_mode": {
    "name": "ipython",
    "version": 3
   },
   "file_extension": ".py",
   "mimetype": "text/x-python",
   "name": "python",
   "nbconvert_exporter": "python",
   "pygments_lexer": "ipython3",
   "version": "3.7.4"
  }
 },
 "nbformat": 4,
 "nbformat_minor": 2
}
